{
 "cells": [
  {
   "cell_type": "code",
   "execution_count": 1,
   "metadata": {},
   "outputs": [
    {
     "name": "stderr",
     "output_type": "stream",
     "text": [
      "C:\\Users\\yutaw\\Anaconda3\\envs\\tensorflow\\lib\\site-packages\\h5py\\__init__.py:36: FutureWarning: Conversion of the second argument of issubdtype from `float` to `np.floating` is deprecated. In future, it will be treated as `np.float64 == np.dtype(float).type`.\n",
      "  from ._conv import register_converters as _register_converters\n"
     ]
    }
   ],
   "source": [
    "from tensorflow.python.keras.applications.vgg16 import VGG16\n",
    "\n",
    "model = VGG16()"
   ]
  },
  {
   "cell_type": "code",
   "execution_count": 2,
   "metadata": {},
   "outputs": [
    {
     "name": "stderr",
     "output_type": "stream",
     "text": [
      "Using TensorFlow backend.\n"
     ]
    }
   ],
   "source": [
    "import numpy as np\n",
    "import matplotlib.pyplot as plt\n",
    "%matplotlib inline\n",
    "\n",
    "import cv2\n",
    "\n",
    "#kerasではバックエンドでTensorFlowを回しているのでkeras使用時は毎回importする。\n",
    "import tensorflow as tf\n",
    "import keras\n",
    "\n",
    "#層構造のモデルを定義するためのメソッド（kerasのモデル構築で必ず使う）\n",
    "from keras.models import Sequential\n",
    "\n",
    "# Denseは層の生成メソッド、Activationは活性化関数を定義するためのメソッド\n",
    "#Flattenは二次元配列を一次元配列に変換する層\n",
    "from keras.layers import Dense, Activation, Flatten\n",
    "\n",
    "#SGD：ディープラーニングにおいて最も基本的な最適化手法\n",
    "from keras.optimizers import SGD\n",
    "\n",
    "from keras.datasets import fashion_mnist\n",
    "\n",
    "(X_train, y_train), (X_test, y_test) = fashion_mnist.load_data()\n",
    "\n",
    "class_names = ['T-shirt/top', 'Trouser', 'Pullover', 'Dress', 'Coat', 'Sandal', 'Shirt', 'Sneaker', 'Bag', 'Ankle boot']"
   ]
  },
  {
   "cell_type": "code",
   "execution_count": 3,
   "metadata": {},
   "outputs": [],
   "source": [
    "resize_img_list = []\n",
    "for count in range(X_train.shape[0]):\n",
    "    resize_img_list.append(cv2.cvtColor((cv2.resize(X_train[count], (32, 32))), cv2.COLOR_GRAY2RGB))\n",
    "    \n",
    "X_train2 = np.array(resize_img_list)\n",
    "\n",
    "resize_img_list2 = []\n",
    "for count in range(X_test.shape[0]):\n",
    "    resize_img_list2.append(cv2.cvtColor((cv2.resize(X_test[count], (32, 32))), cv2.COLOR_GRAY2RGB))\n",
    "    \n",
    "X_test2 = np.array(resize_img_list2)"
   ]
  },
  {
   "cell_type": "code",
   "execution_count": 4,
   "metadata": {},
   "outputs": [
    {
     "name": "stdout",
     "output_type": "stream",
     "text": [
      "Downloading data from https://github.com/fchollet/deep-learning-models/releases/download/v0.1/vgg16_weights_tf_dim_ordering_tf_kernels_notop.h5\n",
      "58892288/58889256 [==============================] - 13s 0us/step\n"
     ]
    }
   ],
   "source": [
    "from keras.layers import Input, Activation, Flatten, Dropout\n",
    "from keras.optimizers import SGD\n",
    "from keras.applications.vgg16 import VGG16\n",
    "\n",
    "# 入力画像のサイズを指定\n",
    "input_tensor = Input(shape=(32, 32, 3))\n",
    "\n",
    "# 学習済みモデルの読み込み\n",
    "# ダウンロードに数十分かかります\n",
    "base_model = VGG16(weights='imagenet', include_top=False, input_tensor=input_tensor, input_shape=(32, 32, 3))\n"
   ]
  },
  {
   "cell_type": "code",
   "execution_count": null,
   "metadata": {},
   "outputs": [
    {
     "name": "stderr",
     "output_type": "stream",
     "text": [
      "C:\\Users\\yutaw\\Anaconda3\\envs\\tensorflow\\lib\\site-packages\\ipykernel_launcher.py:18: UserWarning: Update your `Model` call to the Keras 2 API: `Model(outputs=Tensor(\"se..., inputs=Tensor(\"in...)`\n"
     ]
    },
    {
     "name": "stdout",
     "output_type": "stream",
     "text": [
      "Train on 60000 samples, validate on 10000 samples\n",
      "Epoch 1/1\n",
      " 1800/60000 [..............................] - ETA: 28:37 - loss: 10.6887 - acc: 0.1528"
     ]
    }
   ],
   "source": [
    "# 必要なパラメータの追加\n",
    "input_height = 32\n",
    "input_width = 32\n",
    "n_class = 10\n",
    "\n",
    "# 学習済みモデルに加える全結合層部分を定義\n",
    "# 最終層はノード数がクラスラベルの数に一致していないのでスライシングで取り除く\n",
    "top_model = Sequential()\n",
    "top_model.add(Flatten(input_shape=base_model.output_shape[1:]))\n",
    "top_model.add(Dense(256))\n",
    "top_model.add(Activation('relu'))\n",
    "top_model.add(Dropout(0.5))\n",
    "top_model.add(Dense(n_class))\n",
    "top_model.add(Activation('softmax'))\n",
    "\n",
    "# base_modelとtop_modelを接続\n",
    "from keras.models import Model\n",
    "model = Model(input=base_model.input, output=top_model(base_model.output))\n",
    "# 畳み込み層の重みを固定（学習させない）\n",
    "for layer in model.layers[:15]:\n",
    "        layer.trainable = False\n",
    "\n",
    "# モデルのコンパイル\n",
    "model.compile(loss='categorical_crossentropy',\n",
    "              optimizer=SGD(lr=0.0001),\n",
    "              metrics=['accuracy'])\n",
    "\n",
    "batch_size = 100\n",
    "n_epoch = 1\n",
    "#one-hotエンコーディング\n",
    "Y_train = np.identity(10)[y_train].astype('i')\n",
    "Y_test = np.identity(10)[y_test].astype('i')\n",
    "\n",
    "hist = model.fit(X_train2,\n",
    "                 Y_train,\n",
    "                 epochs=n_epoch,\n",
    "                 validation_data=(X_test2, Y_test),\n",
    "                 verbose=1,\n",
    "                 batch_size=batch_size)\n",
    "\n",
    "\n",
    "\n",
    "\n",
    "\n",
    "    "
   ]
  },
  {
   "cell_type": "code",
   "execution_count": null,
   "metadata": {},
   "outputs": [],
   "source": []
  }
 ],
 "metadata": {
  "kernelspec": {
   "display_name": "Python 3",
   "language": "python",
   "name": "python3"
  },
  "language_info": {
   "codemirror_mode": {
    "name": "ipython",
    "version": 3
   },
   "file_extension": ".py",
   "mimetype": "text/x-python",
   "name": "python",
   "nbconvert_exporter": "python",
   "pygments_lexer": "ipython3",
   "version": "3.5.5"
  }
 },
 "nbformat": 4,
 "nbformat_minor": 2
}

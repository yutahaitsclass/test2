{
 "cells": [
  {
   "cell_type": "code",
   "execution_count": 1,
   "metadata": {},
   "outputs": [],
   "source": [
    "import seaborn as sns\n",
    "import matplotlib.pyplot as plt\n",
    "import numpy as np\n",
    "import pandas as pd\n",
    "from scipy.stats import skew\n",
    "from sklearn.linear_model import Lasso\n",
    "from sklearn.model_selection import train_test_split\n",
    "from sklearn.metrics import mean_squared_error"
   ]
  },
  {
   "cell_type": "code",
   "execution_count": 2,
   "metadata": {},
   "outputs": [],
   "source": [
    "#データの読み込み\n",
    "train = pd.read_csv('train.csv')\n",
    "test = pd.read_csv('test.csv')"
   ]
  },
  {
   "cell_type": "code",
   "execution_count": 3,
   "metadata": {},
   "outputs": [
    {
     "ename": "NameError",
     "evalue": "name 'data' is not defined",
     "output_type": "error",
     "traceback": [
      "\u001b[1;31m---------------------------------------------------------------------------\u001b[0m",
      "\u001b[1;31mNameError\u001b[0m                                 Traceback (most recent call last)",
      "\u001b[1;32m<ipython-input-3-8be7971adbe3>\u001b[0m in \u001b[0;36m<module>\u001b[1;34m()\u001b[0m\n\u001b[1;32m----> 1\u001b[1;33m \u001b[0mdata\u001b[0m \u001b[1;33m=\u001b[0m \u001b[0mdata\u001b[0m\u001b[1;33m.\u001b[0m\u001b[0mdrop\u001b[0m\u001b[1;33m(\u001b[0m\u001b[0mcolumns\u001b[0m\u001b[1;33m=\u001b[0m\u001b[1;33m[\u001b[0m\u001b[1;34m\"YearRemodAdd\"\u001b[0m\u001b[1;33m,\u001b[0m\u001b[1;34m\"PoolQC\"\u001b[0m\u001b[1;33m,\u001b[0m\u001b[1;34m\"MiscFeature\"\u001b[0m\u001b[1;33m,\u001b[0m\u001b[1;34m\"Alley\"\u001b[0m\u001b[1;33m,\u001b[0m\u001b[1;34m\"Fence\"\u001b[0m \u001b[1;33m,\u001b[0m\u001b[1;34m\"FireplaceQu\"\u001b[0m \u001b[1;33m,\u001b[0m\u001b[1;34m\"LotFrontage\"\u001b[0m\u001b[1;33m,\u001b[0m\u001b[1;34m\"LotFrontage\"\u001b[0m\u001b[1;33m]\u001b[0m\u001b[1;33m)\u001b[0m\u001b[1;33m\u001b[0m\u001b[0m\n\u001b[0m",
      "\u001b[1;31mNameError\u001b[0m: name 'data' is not defined"
     ]
    }
   ],
   "source": [
    "train = train.drop(columns=[\"YearRemodAdd\",\"PoolQC\",\"MiscFeature\",\"Alley\",\"Fence\" ,\"FireplaceQu\" ,\"LotFrontage\",\"LotFrontage\"])"
   ]
  },
  {
   "cell_type": "code",
   "execution_count": null,
   "metadata": {},
   "outputs": [],
   "source": [
    "# s2 = pd.Series(train.columns)\n",
    "# train.columns[s2.str.contains(\"SF\")]"
   ]
  },
  {
   "cell_type": "code",
   "execution_count": null,
   "metadata": {},
   "outputs": [],
   "source": [
    "train[\"TotalSF\"] = train[\"TotalBsmtSF\"] + train[\"1stFlrSF\"] + train[\"2ndFlrSF\"]+train['GarageArea']\n",
    "train['YearSinceBuilt'] = 2011 - train['YearBuilt']\n",
    "#何年に売れたかより、売れてから経過している年数の方が重要のはず\n",
    "train['YrSinceSold'] = 2011 - train['YrSold']\n",
    "train['GaragesinceYrBlt']  =2011 - train[\"GarageYrBlt\"]"
   ]
  },
  {
   "cell_type": "code",
   "execution_count": null,
   "metadata": {},
   "outputs": [],
   "source": [
    "\n",
    "test[\"TotalSF\"] = test[\"TotalBsmtSF\"] + test[\"1stFlrSF\"] + test[\"2ndFlrSF\"]+test['GarageArea']\n",
    "#何年に建ったかより、築年数の方が重要のはず\n",
    "test['YearSinceBuilt'] = 2011 - test['YearBuilt']\n",
    "#何年に売れたかより、売れてから経過している年数の方が重要のはず\n",
    "test['YrSinceSold'] = 2011 - test['YrSold']\n",
    "test['GaragesinceYrBlt']  =2011 - test[\"GarageYrBlt\"]"
   ]
  },
  {
   "cell_type": "code",
   "execution_count": null,
   "metadata": {},
   "outputs": [],
   "source": [
    " train.drop(['1stFlrSF','GarageArea',\"TotalBsmtSF\",'TotRmsAbvGrd', 'GarageYrBlt',\"2ndFlrSF\"], axis=1, inplace=True)\n",
    "test.drop(['1stFlrSF','GarageArea',\"TotalBsmtSF\",'TotRmsAbvGrd', 'GarageYrBlt',\"2ndFlrSF\"], axis=1, inplace=True)"
   ]
  },
  {
   "cell_type": "code",
   "execution_count": null,
   "metadata": {
    "scrolled": true
   },
   "outputs": [],
   "source": [
    "# sns.heatmap(train.corr(),annot=True)"
   ]
  },
  {
   "cell_type": "code",
   "execution_count": null,
   "metadata": {},
   "outputs": [],
   "source": [
    "# train = train[(train['SalePrice'] < 700000)]"
   ]
  },
  {
   "cell_type": "code",
   "execution_count": null,
   "metadata": {},
   "outputs": [],
   "source": [
    "train= pd.get_dummies(train)\n",
    "test= pd.get_dummies(test)\n",
    "train = train.fillna(train.mean())\n",
    "test = test.fillna(test.mean())"
   ]
  },
  {
   "cell_type": "code",
   "execution_count": null,
   "metadata": {},
   "outputs": [],
   "source": []
  },
  {
   "cell_type": "code",
   "execution_count": null,
   "metadata": {},
   "outputs": [],
   "source": []
  },
  {
   "cell_type": "code",
   "execution_count": null,
   "metadata": {},
   "outputs": [],
   "source": [
    "train[\"OverallQual_2\"]=train[\"OverallQual\"]**2"
   ]
  },
  {
   "cell_type": "code",
   "execution_count": null,
   "metadata": {
    "scrolled": false
   },
   "outputs": [],
   "source": [
    "# sns.pairplot(train.loc[:,[\"OverallQual\",\"GrLivArea\",\"YearSinceBuilt\",\"SalePrice\",\"OverallQual_2\"]])"
   ]
  },
  {
   "cell_type": "code",
   "execution_count": null,
   "metadata": {},
   "outputs": [],
   "source": []
  },
  {
   "cell_type": "code",
   "execution_count": null,
   "metadata": {},
   "outputs": [],
   "source": [
    "train = train[~((train['GrLivArea'] > 3000) & (train['SalePrice'] < 300000))]"
   ]
  },
  {
   "cell_type": "code",
   "execution_count": null,
   "metadata": {},
   "outputs": [],
   "source": [
    "# train[\"GarageArea\"].sort_values(a)"
   ]
  },
  {
   "cell_type": "code",
   "execution_count": null,
   "metadata": {},
   "outputs": [],
   "source": []
  },
  {
   "cell_type": "code",
   "execution_count": null,
   "metadata": {},
   "outputs": [],
   "source": [
    "sns.pairplot(train.loc[:,[\"OverallQual\",\"GrLivArea\",\"YearSinceBuilt\",\"SalePrice\",\"OverallQual_2\"]])"
   ]
  },
  {
   "cell_type": "code",
   "execution_count": null,
   "metadata": {},
   "outputs": [],
   "source": []
  },
  {
   "cell_type": "code",
   "execution_count": null,
   "metadata": {},
   "outputs": [],
   "source": [
    "sns.pairplot(train.loc[:,[\"OverallQual\",\"GrLivArea\",\"YearSinceBuilt\",\"SalePrice\"]])"
   ]
  },
  {
   "cell_type": "code",
   "execution_count": null,
   "metadata": {
    "scrolled": true
   },
   "outputs": [],
   "source": [
    "train = np.log1p(train)\n",
    "test = np.log1p(test)"
   ]
  },
  {
   "cell_type": "code",
   "execution_count": null,
   "metadata": {
    "scrolled": true
   },
   "outputs": [],
   "source": [
    "sns.pairplot(train.loc[:,[\"OverallQual\",\"GrLivArea\",\"YearSinceBuilt\",\"SalePrice\",\"OverallQual_2\"]])"
   ]
  },
  {
   "cell_type": "code",
   "execution_count": null,
   "metadata": {},
   "outputs": [],
   "source": [
    "train = train[~(train['OverallQual_2'] < 2)]"
   ]
  },
  {
   "cell_type": "code",
   "execution_count": null,
   "metadata": {},
   "outputs": [],
   "source": [
    "from sklearn.model_selection import train_test_split\n",
    "\n",
    "X = train.loc[:,train.columns != \"SalePrice\"]\n",
    "y = train.loc[:, ['SalePrice']].values\n",
    "X_train, X_test, y_train, y_test = train_test_split(X, y, test_size = 0.3, random_state = 1)"
   ]
  },
  {
   "cell_type": "code",
   "execution_count": null,
   "metadata": {},
   "outputs": [],
   "source": [
    "from sklearn.linear_model import Lasso\n",
    "\n",
    "reg = Lasso(alpha=0.0005)\n",
    "reg.fit(X_train, y_train)\n",
    "from sklearn.metrics import mean_squared_error\n",
    "print(\"ラッソ回帰でのRMSE:\",np.sqrt(mean_squared_error(reg.predict(X_test), y_test)))"
   ]
  },
  {
   "cell_type": "code",
   "execution_count": null,
   "metadata": {},
   "outputs": [],
   "source": []
  },
  {
   "cell_type": "code",
   "execution_count": null,
   "metadata": {},
   "outputs": [],
   "source": []
  },
  {
   "cell_type": "markdown",
   "metadata": {},
   "source": [
    "#"
   ]
  }
 ],
 "metadata": {
  "kernelspec": {
   "display_name": "Python 3",
   "language": "python",
   "name": "python3"
  },
  "language_info": {
   "codemirror_mode": {
    "name": "ipython",
    "version": 3
   },
   "file_extension": ".py",
   "mimetype": "text/x-python",
   "name": "python",
   "nbconvert_exporter": "python",
   "pygments_lexer": "ipython3",
   "version": "3.5.5"
  }
 },
 "nbformat": 4,
 "nbformat_minor": 2
}

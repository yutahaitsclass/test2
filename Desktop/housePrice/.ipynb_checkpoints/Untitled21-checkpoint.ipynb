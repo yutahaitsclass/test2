{
 "cells": [
  {
   "cell_type": "code",
   "execution_count": 1,
   "metadata": {},
   "outputs": [],
   "source": [
    "import pandas as pd\n",
    "import matplotlib.pyplot as plt\n",
    "import seaborn as sns\n",
    "import numpy as np\n",
    "%matplotlib inline \n",
    "# from scipy.stats import skewb\n",
    "from sklearn.linear_model import Lasso\n",
    "from sklearn.model_selection import train_test_split\n",
    "from sklearn.metrics import mean_squared_error"
   ]
  },
  {
   "cell_type": "code",
   "execution_count": 2,
   "metadata": {},
   "outputs": [],
   "source": [
    "train = pd.read_csv(\"train.csv\")"
   ]
  },
  {
   "cell_type": "code",
   "execution_count": 3,
   "metadata": {},
   "outputs": [],
   "source": [
    "train = train.drop(['Id'],axis=1)"
   ]
  },
  {
   "cell_type": "code",
   "execution_count": 10,
   "metadata": {},
   "outputs": [
    {
     "data": {
      "text/html": [
       "<div>\n",
       "<style scoped>\n",
       "    .dataframe tbody tr th:only-of-type {\n",
       "        vertical-align: middle;\n",
       "    }\n",
       "\n",
       "    .dataframe tbody tr th {\n",
       "        vertical-align: top;\n",
       "    }\n",
       "\n",
       "    .dataframe thead th {\n",
       "        text-align: right;\n",
       "    }\n",
       "</style>\n",
       "<table border=\"1\" class=\"dataframe\">\n",
       "  <thead>\n",
       "    <tr style=\"text-align: right;\">\n",
       "      <th></th>\n",
       "      <th>MSSubClass</th>\n",
       "      <th>MSZoning</th>\n",
       "      <th>LotFrontage</th>\n",
       "      <th>LotArea</th>\n",
       "      <th>Street</th>\n",
       "      <th>Alley</th>\n",
       "      <th>LotShape</th>\n",
       "      <th>LandContour</th>\n",
       "      <th>Utilities</th>\n",
       "      <th>LotConfig</th>\n",
       "      <th>...</th>\n",
       "      <th>MiscVal</th>\n",
       "      <th>MoSold</th>\n",
       "      <th>YrSold</th>\n",
       "      <th>SaleType</th>\n",
       "      <th>SaleCondition</th>\n",
       "      <th>SalePrice</th>\n",
       "      <th>TotalSF</th>\n",
       "      <th>TotalQual</th>\n",
       "      <th>TotalBsmtSFQual</th>\n",
       "      <th>Porch</th>\n",
       "    </tr>\n",
       "  </thead>\n",
       "  <tbody>\n",
       "    <tr>\n",
       "      <th>523</th>\n",
       "      <td>60</td>\n",
       "      <td>RL</td>\n",
       "      <td>130.0</td>\n",
       "      <td>40094</td>\n",
       "      <td>Pave</td>\n",
       "      <td>NaN</td>\n",
       "      <td>IR1</td>\n",
       "      <td>Bnk</td>\n",
       "      <td>AllPub</td>\n",
       "      <td>Inside</td>\n",
       "      <td>...</td>\n",
       "      <td>0</td>\n",
       "      <td>10</td>\n",
       "      <td>2007</td>\n",
       "      <td>New</td>\n",
       "      <td>Partial</td>\n",
       "      <td>184750</td>\n",
       "      <td>7814</td>\n",
       "      <td>78140</td>\n",
       "      <td>ExExExExExExExExExExExExExExExExExExExExExExEx...</td>\n",
       "      <td>406</td>\n",
       "    </tr>\n",
       "    <tr>\n",
       "      <th>1298</th>\n",
       "      <td>60</td>\n",
       "      <td>RL</td>\n",
       "      <td>313.0</td>\n",
       "      <td>63887</td>\n",
       "      <td>Pave</td>\n",
       "      <td>NaN</td>\n",
       "      <td>IR3</td>\n",
       "      <td>Bnk</td>\n",
       "      <td>AllPub</td>\n",
       "      <td>Corner</td>\n",
       "      <td>...</td>\n",
       "      <td>0</td>\n",
       "      <td>1</td>\n",
       "      <td>2008</td>\n",
       "      <td>New</td>\n",
       "      <td>Partial</td>\n",
       "      <td>160000</td>\n",
       "      <td>11752</td>\n",
       "      <td>117520</td>\n",
       "      <td>ExExExExExExExExExExExExExExExExExExExExExExEx...</td>\n",
       "      <td>292</td>\n",
       "    </tr>\n",
       "  </tbody>\n",
       "</table>\n",
       "<p>2 rows × 84 columns</p>\n",
       "</div>"
      ],
      "text/plain": [
       "      MSSubClass MSZoning  LotFrontage  LotArea Street Alley LotShape  \\\n",
       "523           60       RL        130.0    40094   Pave   NaN      IR1   \n",
       "1298          60       RL        313.0    63887   Pave   NaN      IR3   \n",
       "\n",
       "     LandContour Utilities LotConfig  ...   MiscVal MoSold YrSold SaleType  \\\n",
       "523          Bnk    AllPub    Inside  ...         0     10   2007      New   \n",
       "1298         Bnk    AllPub    Corner  ...         0      1   2008      New   \n",
       "\n",
       "     SaleCondition SalePrice  TotalSF  TotalQual  \\\n",
       "523        Partial    184750     7814      78140   \n",
       "1298       Partial    160000    11752     117520   \n",
       "\n",
       "                                        TotalBsmtSFQual  Porch  \n",
       "523   ExExExExExExExExExExExExExExExExExExExExExExEx...    406  \n",
       "1298  ExExExExExExExExExExExExExExExExExExExExExExEx...    292  \n",
       "\n",
       "[2 rows x 84 columns]"
      ]
     },
     "execution_count": 10,
     "metadata": {},
     "output_type": "execute_result"
    }
   ],
   "source": []
  },
  {
   "cell_type": "code",
   "execution_count": 4,
   "metadata": {},
   "outputs": [],
   "source": [
    "# # train[\"MoSold\"].unique()\n",
    "# sns.jointplot(x=\"MoSold\", y= \"SalePrice\",data=train)\n",
    "# plt.savefig(\"figure221.png\")"
   ]
  },
  {
   "cell_type": "code",
   "execution_count": 5,
   "metadata": {
    "scrolled": true
   },
   "outputs": [
    {
     "name": "stderr",
     "output_type": "stream",
     "text": [
      "C:\\Users\\yutaw\\Anaconda3\\envs\\tensorflow\\lib\\site-packages\\matplotlib\\axes\\_axes.py:6462: UserWarning: The 'normed' kwarg is deprecated, and has been replaced by the 'density' kwarg.\n",
      "  warnings.warn(\"The 'normed' kwarg is deprecated, and has been \"\n",
      "C:\\Users\\yutaw\\Anaconda3\\envs\\tensorflow\\lib\\site-packages\\matplotlib\\axes\\_axes.py:6462: UserWarning: The 'normed' kwarg is deprecated, and has been replaced by the 'density' kwarg.\n",
      "  warnings.warn(\"The 'normed' kwarg is deprecated, and has been \"\n"
     ]
    },
    {
     "data": {
      "text/plain": [
       "<seaborn.axisgrid.JointGrid at 0x23f5ebbc278>"
      ]
     },
     "execution_count": 5,
     "metadata": {},
     "output_type": "execute_result"
    },
    {
     "data": {
      "image/png": "[encoded data removed]",
      "text/plain": [
       "<Figure size 432x432 with 3 Axes>"
      ]
     },
     "metadata": {},
     "output_type": "display_data"
    }
   ],
   "source": [
    "# train[\"MoSold\"].unique()\n",
    "sns.jointplot(x=\"YrSold\", y= \"SalePrice\",data=train)\n",
    "# plt.savefig(\"figure221.png\")"
   ]
  },
  {
   "cell_type": "code",
   "execution_count": null,
   "metadata": {},
   "outputs": [],
   "source": [
    "train[\"BsmtQual\"]=train[\"BsmtQual\"].fill(0)"
   ]
  },
  {
   "cell_type": "code",
   "execution_count": 6,
   "metadata": {},
   "outputs": [
    {
     "name": "stderr",
     "output_type": "stream",
     "text": [
      "C:\\Users\\yutaw\\Anaconda3\\envs\\tensorflow\\lib\\site-packages\\ipykernel_launcher.py:7: SettingWithCopyWarning: \n",
      "A value is trying to be set on a copy of a slice from a DataFrame\n",
      "\n",
      "See the caveats in the documentation: http://pandas.pydata.org/pandas-docs/stable/indexing.html#indexing-view-versus-copy\n",
      "  import sys\n"
     ]
    }
   ],
   "source": [
    "train[\"TotalSF\"] = train[\"TotalBsmtSF\"] + train[\"1stFlrSF\"] + train[\"2ndFlrSF\"] \n",
    "train['YearBuilt'] = 2011 - train['YearBuilt']\n",
    "train['YearRemodAdd']=2011- train['YearRemodAdd']\n",
    "train['GarageYrBlt']=2011- train['GarageYrBlt']\n",
    "train[\"TotalQual\"]=train[\"TotalSF\"] *train['OverallQual']\n",
    "train[\"TotalBsmtSFQual\"]=train[\"TotalBsmtSF\"] *train['BsmtQual']\n",
    "train['YearBuilt'][train['YearBuilt']!=train['YearRemodAdd']]=train['YearRemodAdd']\n",
    "train[\"Porch\"]=train['OpenPorchSF']+train['EnclosedPorch']+train['3SsnPorch']+train['ScreenPorch']"
   ]
  },
  {
   "cell_type": "code",
   "execution_count": null,
   "metadata": {},
   "outputs": [],
   "source": []
  },
  {
   "cell_type": "code",
   "execution_count": 13,
   "metadata": {},
   "outputs": [
    {
     "data": {
      "text/html": [
       "<div>\n",
       "<style scoped>\n",
       "    .dataframe tbody tr th:only-of-type {\n",
       "        vertical-align: middle;\n",
       "    }\n",
       "\n",
       "    .dataframe tbody tr th {\n",
       "        vertical-align: top;\n",
       "    }\n",
       "\n",
       "    .dataframe thead th {\n",
       "        text-align: right;\n",
       "    }\n",
       "</style>\n",
       "<table border=\"1\" class=\"dataframe\">\n",
       "  <thead>\n",
       "    <tr style=\"text-align: right;\">\n",
       "      <th></th>\n",
       "      <th>TotalQual</th>\n",
       "      <th>TotalBsmtSFQual</th>\n",
       "      <th>TotalSF</th>\n",
       "      <th>OverallQual</th>\n",
       "      <th>LotArea</th>\n",
       "      <th>BsmtFinSF1</th>\n",
       "      <th>GarageArea</th>\n",
       "      <th>GarageYrBlt</th>\n",
       "      <th>GrLivArea</th>\n",
       "      <th>GarageCars</th>\n",
       "      <th>BsmtUnfSF</th>\n",
       "      <th>YearRemodAdd</th>\n",
       "      <th>YearBuilt</th>\n",
       "      <th>SalePrice</th>\n",
       "    </tr>\n",
       "  </thead>\n",
       "  <tbody>\n",
       "    <tr>\n",
       "      <th>523</th>\n",
       "      <td>78140</td>\n",
       "      <td>ExExExExExExExExExExExExExExExExExExExExExExEx...</td>\n",
       "      <td>7814</td>\n",
       "      <td>10</td>\n",
       "      <td>40094</td>\n",
       "      <td>2260</td>\n",
       "      <td>884</td>\n",
       "      <td>4.0</td>\n",
       "      <td>4676</td>\n",
       "      <td>3</td>\n",
       "      <td>878</td>\n",
       "      <td>3</td>\n",
       "      <td>3</td>\n",
       "      <td>184750</td>\n",
       "    </tr>\n",
       "    <tr>\n",
       "      <th>1298</th>\n",
       "      <td>117520</td>\n",
       "      <td>ExExExExExExExExExExExExExExExExExExExExExExEx...</td>\n",
       "      <td>11752</td>\n",
       "      <td>10</td>\n",
       "      <td>63887</td>\n",
       "      <td>5644</td>\n",
       "      <td>1418</td>\n",
       "      <td>3.0</td>\n",
       "      <td>5642</td>\n",
       "      <td>2</td>\n",
       "      <td>466</td>\n",
       "      <td>3</td>\n",
       "      <td>3</td>\n",
       "      <td>160000</td>\n",
       "    </tr>\n",
       "  </tbody>\n",
       "</table>\n",
       "</div>"
      ],
      "text/plain": [
       "      TotalQual                                    TotalBsmtSFQual  TotalSF  \\\n",
       "523       78140  ExExExExExExExExExExExExExExExExExExExExExExEx...     7814   \n",
       "1298     117520  ExExExExExExExExExExExExExExExExExExExExExExEx...    11752   \n",
       "\n",
       "      OverallQual  LotArea  BsmtFinSF1  GarageArea  GarageYrBlt  GrLivArea  \\\n",
       "523            10    40094        2260         884          4.0       4676   \n",
       "1298           10    63887        5644        1418          3.0       5642   \n",
       "\n",
       "      GarageCars  BsmtUnfSF  YearRemodAdd  YearBuilt  SalePrice  \n",
       "523            3        878             3          3     184750  \n",
       "1298           2        466             3          3     160000  "
      ]
     },
     "execution_count": 13,
     "metadata": {},
     "output_type": "execute_result"
    }
   ],
   "source": [
    "train[((train['GrLivArea'] > 4000) & (train['SalePrice'] < 300000))].loc[:,['TotalQual',\"TotalBsmtSFQual\",\"TotalSF\",\"OverallQual\",'LotArea', 'BsmtFinSF1', 'GarageArea', 'GarageYrBlt',\n",
    "       'GrLivArea', 'GarageCars', 'BsmtUnfSF', 'YearRemodAdd','YearBuilt','SalePrice']]"
   ]
  },
  {
   "cell_type": "code",
   "execution_count": null,
   "metadata": {},
   "outputs": [],
   "source": []
  },
  {
   "cell_type": "code",
   "execution_count": 9,
   "metadata": {},
   "outputs": [
    {
     "data": {
      "text/html": [
       "<div>\n",
       "<style scoped>\n",
       "    .dataframe tbody tr th:only-of-type {\n",
       "        vertical-align: middle;\n",
       "    }\n",
       "\n",
       "    .dataframe tbody tr th {\n",
       "        vertical-align: top;\n",
       "    }\n",
       "\n",
       "    .dataframe thead th {\n",
       "        text-align: right;\n",
       "    }\n",
       "</style>\n",
       "<table border=\"1\" class=\"dataframe\">\n",
       "  <thead>\n",
       "    <tr style=\"text-align: right;\">\n",
       "      <th></th>\n",
       "      <th>TotalQual</th>\n",
       "      <th>TotalSF</th>\n",
       "      <th>OverallQual</th>\n",
       "      <th>LotArea</th>\n",
       "      <th>BsmtFinSF1</th>\n",
       "      <th>GarageArea</th>\n",
       "      <th>GarageYrBlt</th>\n",
       "      <th>GrLivArea</th>\n",
       "      <th>GarageCars</th>\n",
       "      <th>BsmtUnfSF</th>\n",
       "      <th>YearRemodAdd</th>\n",
       "      <th>YearBuilt</th>\n",
       "      <th>SalePrice</th>\n",
       "    </tr>\n",
       "  </thead>\n",
       "  <tbody>\n",
       "    <tr>\n",
       "      <th>691</th>\n",
       "      <td>67600</td>\n",
       "      <td>6760</td>\n",
       "      <td>10</td>\n",
       "      <td>21535</td>\n",
       "      <td>1455</td>\n",
       "      <td>832</td>\n",
       "      <td>17.0</td>\n",
       "      <td>4316</td>\n",
       "      <td>3</td>\n",
       "      <td>989</td>\n",
       "      <td>16</td>\n",
       "      <td>16</td>\n",
       "      <td>755000</td>\n",
       "    </tr>\n",
       "    <tr>\n",
       "      <th>898</th>\n",
       "      <td>42246</td>\n",
       "      <td>4694</td>\n",
       "      <td>9</td>\n",
       "      <td>12919</td>\n",
       "      <td>2188</td>\n",
       "      <td>820</td>\n",
       "      <td>2.0</td>\n",
       "      <td>2364</td>\n",
       "      <td>3</td>\n",
       "      <td>142</td>\n",
       "      <td>1</td>\n",
       "      <td>1</td>\n",
       "      <td>611657</td>\n",
       "    </tr>\n",
       "    <tr>\n",
       "      <th>1169</th>\n",
       "      <td>55570</td>\n",
       "      <td>5557</td>\n",
       "      <td>10</td>\n",
       "      <td>35760</td>\n",
       "      <td>1387</td>\n",
       "      <td>807</td>\n",
       "      <td>16.0</td>\n",
       "      <td>3627</td>\n",
       "      <td>3</td>\n",
       "      <td>543</td>\n",
       "      <td>15</td>\n",
       "      <td>15</td>\n",
       "      <td>625000</td>\n",
       "    </tr>\n",
       "    <tr>\n",
       "      <th>1182</th>\n",
       "      <td>68720</td>\n",
       "      <td>6872</td>\n",
       "      <td>10</td>\n",
       "      <td>15623</td>\n",
       "      <td>2096</td>\n",
       "      <td>813</td>\n",
       "      <td>15.0</td>\n",
       "      <td>4476</td>\n",
       "      <td>3</td>\n",
       "      <td>300</td>\n",
       "      <td>15</td>\n",
       "      <td>15</td>\n",
       "      <td>745000</td>\n",
       "    </tr>\n",
       "  </tbody>\n",
       "</table>\n",
       "</div>"
      ],
      "text/plain": [
       "      TotalQual  TotalSF  OverallQual  LotArea  BsmtFinSF1  GarageArea  \\\n",
       "691       67600     6760           10    21535        1455         832   \n",
       "898       42246     4694            9    12919        2188         820   \n",
       "1169      55570     5557           10    35760        1387         807   \n",
       "1182      68720     6872           10    15623        2096         813   \n",
       "\n",
       "      GarageYrBlt  GrLivArea  GarageCars  BsmtUnfSF  YearRemodAdd  YearBuilt  \\\n",
       "691          17.0       4316           3        989            16         16   \n",
       "898           2.0       2364           3        142             1          1   \n",
       "1169         16.0       3627           3        543            15         15   \n",
       "1182         15.0       4476           3        300            15         15   \n",
       "\n",
       "      SalePrice  \n",
       "691      755000  \n",
       "898      611657  \n",
       "1169     625000  \n",
       "1182     745000  "
      ]
     },
     "execution_count": 9,
     "metadata": {},
     "output_type": "execute_result"
    }
   ],
   "source": [
    "train.loc[train[\"SalePrice\"]>600000,['TotalQual', \"TotalSF\",\"OverallQual\",'LotArea', 'BsmtFinSF1', 'GarageArea', 'GarageYrBlt',\n",
    "       'GrLivArea', 'GarageCars', 'BsmtUnfSF', 'YearRemodAdd','YearBuilt','SalePrice']]"
   ]
  },
  {
   "cell_type": "code",
   "execution_count": null,
   "metadata": {},
   "outputs": [],
   "source": []
  },
  {
   "cell_type": "code",
   "execution_count": 8,
   "metadata": {},
   "outputs": [
    {
     "ename": "NameError",
     "evalue": "name 'jj' is not defined",
     "output_type": "error",
     "traceback": [
      "\u001b[1;31m---------------------------------------------------------------------------\u001b[0m",
      "\u001b[1;31mNameError\u001b[0m                                 Traceback (most recent call last)",
      "\u001b[1;32m<ipython-input-8-ea232f0ce149>\u001b[0m in \u001b[0;36m<module>\u001b[1;34m()\u001b[0m\n\u001b[1;32m----> 1\u001b[1;33m \u001b[0mjj\u001b[0m\u001b[1;33m\u001b[0m\u001b[0m\n\u001b[0m",
      "\u001b[1;31mNameError\u001b[0m: name 'jj' is not defined"
     ]
    }
   ],
   "source": [
    "jj"
   ]
  },
  {
   "cell_type": "code",
   "execution_count": null,
   "metadata": {},
   "outputs": [],
   "source": []
  },
  {
   "cell_type": "code",
   "execution_count": null,
   "metadata": {},
   "outputs": [],
   "source": []
  },
  {
   "cell_type": "code",
   "execution_count": null,
   "metadata": {},
   "outputs": [],
   "source": []
  },
  {
   "cell_type": "code",
   "execution_count": null,
   "metadata": {},
   "outputs": [],
   "source": [
    "train=train.drop(['BsmtFullBath', 'BsmtHalfBath', 'HalfBath','LowQualFinSF','Utilities'],axis=1)"
   ]
  },
  {
   "cell_type": "code",
   "execution_count": null,
   "metadata": {},
   "outputs": [],
   "source": [
    "train[\"LotFrontage\"] = train.groupby(\"Neighborhood\")[\"LotFrontage\"].transform(lambda x: x.fillna(x.median()))"
   ]
  },
  {
   "cell_type": "code",
   "execution_count": null,
   "metadata": {},
   "outputs": [],
   "source": [
    "for col in ('MSZoning', 'Electrical', 'KitchenQual', 'Exterior1st', 'Exterior2nd', 'SaleType', 'Functional'):\n",
    "     train[col] =train[col].fillna(train[col].mode()[0])"
   ]
  },
  {
   "cell_type": "code",
   "execution_count": null,
   "metadata": {},
   "outputs": [],
   "source": [
    "for columns in (\"PoolQC\", \"MiscFeature\", 'GarageType',\"Alley\", \"Fence\", \"FireplaceQu\", \"MSSubClass\", 'GarageFinish', 'GarageQual', 'GarageCond', 'MasVnrType', 'BsmtQual', 'BsmtCond', 'BsmtExposure', 'BsmtFinType1', 'BsmtFinType2'):\n",
    "    train[columns] = train[columns].fillna('None')\n",
    "for columns in ('GarageArea', 'GarageYrBlt', 'GarageCars', 'BsmtFinSF1', 'BsmtFinSF2', 'BsmtUnfSF','TotalBsmtSF', \"MasVnrArea\", ):\n",
    "    train[columns] = train[columns].fillna(0)"
   ]
  },
  {
   "cell_type": "code",
   "execution_count": null,
   "metadata": {},
   "outputs": [],
   "source": [
    "zerone = lambda x: 0 if x ==\"None\"  else 1\n",
    "train.loc[:,['PoolQC', 'MiscFeature', 'Alley', 'Fence', 'FireplaceQu']]=train.loc[:,['PoolQC', 'MiscFeature', 'Alley', 'Fence', 'FireplaceQu']].applymap(zerone)\n"
   ]
  },
  {
   "cell_type": "code",
   "execution_count": null,
   "metadata": {},
   "outputs": [],
   "source": [
    "from sklearn.preprocessing import LabelEncoder\n",
    "\n",
    "#以下の特徴量は順序特徴量とみなせる\n",
    "cols = ('BsmtQual', 'BsmtCond', 'GarageQual', 'GarageCond', \n",
    "        'ExterQual', 'ExterCond','HeatingQC', 'KitchenQual', 'BsmtFinType1', \n",
    "        'BsmtFinType2', 'Functional', 'BsmtExposure', 'GarageFinish', 'LandSlope',\n",
    "        'LotShape', 'PavedDrive', 'Street',  'CentralAir', 'MSSubClass', 'OverallCond', \n",
    "         'MoSold')\n",
    "\n",
    "#マッピングを実行\n",
    "for col in cols:\n",
    "    lbl = LabelEncoder() \n",
    "    lbl.fit(list(train[col].values)) \n",
    "    train[col] = lbl.transform(list(train[col].values)) "
   ]
  },
  {
   "cell_type": "code",
   "execution_count": null,
   "metadata": {},
   "outputs": [],
   "source": [
    "train.loc[:,train.isnull().sum()>0].isnull().sum().sort_values(ascending=False)"
   ]
  },
  {
   "cell_type": "code",
   "execution_count": null,
   "metadata": {},
   "outputs": [],
   "source": [
    "train.dtypes[train.dtypes == \"object\"].index"
   ]
  },
  {
   "cell_type": "code",
   "execution_count": null,
   "metadata": {},
   "outputs": [],
   "source": [
    "train.loc[:,['MSZoning', 'LandContour', 'LotConfig', 'Neighborhood', 'Condition1',\n",
    "       'Condition2', 'BldgType', 'HouseStyle', 'RoofStyle', 'RoofMatl',\n",
    "       'Exterior1st', 'Exterior2nd', 'MasVnrType', 'Foundation', 'Heating',\n",
    "       'Electrical', 'GarageType', 'SaleType', 'SaleCondition']] = pd.get_dummies(train.loc[:,['MSZoning', 'LandContour', 'LotConfig', 'Neighborhood', 'Condition1',\n",
    "       'Condition2', 'BldgType', 'HouseStyle', 'RoofStyle', 'RoofMatl',\n",
    "       'Exterior1st', 'Exterior2nd', 'MasVnrType', 'Foundation', 'Heating',\n",
    "       'Electrical', 'GarageType', 'SaleType', 'SaleCondition']])"
   ]
  },
  {
   "cell_type": "code",
   "execution_count": null,
   "metadata": {},
   "outputs": [],
   "source": [
    "train = train.drop(['MSZoning', 'LandContour', 'LotConfig', 'Neighborhood', 'Condition1',\n",
    "       'Condition2', 'BldgType', 'HouseStyle', 'RoofStyle', 'RoofMatl',\n",
    "       'Exterior1st', 'Exterior2nd', 'MasVnrType', 'Foundation', 'Heating',\n",
    "       'Electrical', 'GarageType', 'SaleType', 'SaleCondition'],axis=1)"
   ]
  },
  {
   "cell_type": "code",
   "execution_count": null,
   "metadata": {
    "scrolled": true
   },
   "outputs": [],
   "source": [
    "# train[\"TotalSF\"] = train[\"TotalBsmtSF\"] + train[\"1stFlrSF\"] + train[\"2ndFlrSF\"] \n",
    "# train['YearBuilt'] = 2011 - train['YearBuilt']\n",
    "# train['YearRemodAdd']=2011- train['YearRemodAdd']\n",
    "# train['GarageYrBlt']=2011- train['GarageYrBlt']\n",
    "# train[\"TotalQual\"]=train[\"TotalSF\"] *train['OverallQual']\n",
    "# train[\"TotalBsmtSFQual\"]=train[\"TotalBsmtSF\"] *train['BsmtQual']\n",
    "# train['YearBuilt'][train['YearBuilt']!=train['YearRemodAdd']]=train['YearRemodAdd']\n",
    "# train[\"Porch\"]=train['OpenPorchSF']+train['EnclosedPorch']+train['3SsnPorch']+train['ScreenPorch']"
   ]
  },
  {
   "cell_type": "code",
   "execution_count": null,
   "metadata": {},
   "outputs": [],
   "source": [
    "train = train.drop([\"TotalBsmtSF\",\"1stFlrSF\",\"2ndFlrSF\",\"TotalSF\",'OverallQual','BsmtQual',\"OverallCond\",'OpenPorchSF', 'EnclosedPorch', '3SsnPorch', 'ScreenPorch'],axis =1)"
   ]
  },
  {
   "cell_type": "code",
   "execution_count": null,
   "metadata": {},
   "outputs": [],
   "source": [
    "train = train[~((train['GrLivArea'] > 4000) & (train['SalePrice'] < 300000))]"
   ]
  },
  {
   "cell_type": "code",
   "execution_count": null,
   "metadata": {},
   "outputs": [],
   "source": [
    "train.loc[:,train.columns.str.contains(\"Qu\")|train.columns.str.contains(\"Co\")].head(10)"
   ]
  },
  {
   "cell_type": "code",
   "execution_count": null,
   "metadata": {},
   "outputs": [],
   "source": [
    "# train.loc[:,train.columns.str.contains(\"Ki\")].head()"
   ]
  },
  {
   "cell_type": "code",
   "execution_count": null,
   "metadata": {
    "scrolled": false
   },
   "outputs": [],
   "source": [
    "train.loc[:,train.columns.str.contains(\"Ga\")|train.columns.str.contains(\"Gr\")].head(20)"
   ]
  },
  {
   "cell_type": "code",
   "execution_count": null,
   "metadata": {},
   "outputs": [],
   "source": [
    "# train.loc[:,train.columns.str.contains(\"Lo\")]"
   ]
  },
  {
   "cell_type": "code",
   "execution_count": null,
   "metadata": {},
   "outputs": [],
   "source": [
    "# train.loc[train[\"GarageArea\"]==0]"
   ]
  },
  {
   "cell_type": "code",
   "execution_count": null,
   "metadata": {},
   "outputs": [],
   "source": [
    "# train[\"Garage\"]=train[\"GarageArea\"]*train[\"GarageQual\"]\n",
    "# sns.pairplot(train.loc[:,[\"GarageArea\",\"GarageQual\",\"Garage\",\"SalePrice\"]])"
   ]
  },
  {
   "cell_type": "code",
   "execution_count": null,
   "metadata": {
    "scrolled": false
   },
   "outputs": [],
   "source": [
    "train[\"YrSold\"].unique()"
   ]
  },
  {
   "cell_type": "code",
   "execution_count": null,
   "metadata": {},
   "outputs": [],
   "source": [
    "# train[\"MoSold\"].unique()\n",
    "sns.jointplot(x=\"MoSold\", y= \"SalePrice\",data=train)"
   ]
  },
  {
   "cell_type": "code",
   "execution_count": null,
   "metadata": {},
   "outputs": [],
   "source": [
    "# sns.jointplot(x=\"Garage\",y=\"SalePrice\",data=train,kind=\"reg\")"
   ]
  },
  {
   "cell_type": "code",
   "execution_count": null,
   "metadata": {},
   "outputs": [],
   "source": [
    "# sns.jointplot(\"YrSold\",\"SalePrice\",data= train)"
   ]
  },
  {
   "cell_type": "code",
   "execution_count": null,
   "metadata": {},
   "outputs": [],
   "source": [
    "sss"
   ]
  },
  {
   "cell_type": "code",
   "execution_count": null,
   "metadata": {},
   "outputs": [],
   "source": [
    "# ddddd"
   ]
  },
  {
   "cell_type": "code",
   "execution_count": null,
   "metadata": {},
   "outputs": [],
   "source": []
  },
  {
   "cell_type": "code",
   "execution_count": null,
   "metadata": {},
   "outputs": [],
   "source": [
    "train = np.log1p(train)"
   ]
  },
  {
   "cell_type": "code",
   "execution_count": null,
   "metadata": {},
   "outputs": [],
   "source": [
    "train = train[~(train['SalePrice'] < 11.1)]"
   ]
  },
  {
   "cell_type": "code",
   "execution_count": null,
   "metadata": {},
   "outputs": [],
   "source": [
    "rf_X = train.loc[:,train.columns != \"SalePrice\"]\n",
    "rf_y = train.loc[:,[\"SalePrice\"]]"
   ]
  },
  {
   "cell_type": "code",
   "execution_count": null,
   "metadata": {},
   "outputs": [],
   "source": [
    "from sklearn.model_selection import train_test_split\n",
    "rf_X_train, rf_X_test, rf_y_train, rf_y_test = train_test_split(rf_X, rf_y, test_size=0.3, random_state=0)"
   ]
  },
  {
   "cell_type": "code",
   "execution_count": null,
   "metadata": {},
   "outputs": [],
   "source": [
    "from sklearn.ensemble import RandomForestRegressor\n",
    "rf = RandomForestRegressor(n_estimators=80, max_features='auto')\n",
    "rf.fit(rf_X_train, rf_y_train)"
   ]
  },
  {
   "cell_type": "code",
   "execution_count": null,
   "metadata": {
    "scrolled": false
   },
   "outputs": [],
   "source": [
    "ranking = np.argsort(-rf.feature_importances_)\n",
    "f, ax = plt.subplots(figsize=(15, 12))\n",
    "sns.barplot(x=rf.feature_importances_[ranking], y=rf_X_train.columns.values[ranking], orient='h')\n",
    "ax.set_xlabel(\"important\")\n",
    "plt.tight_layout()\n",
    "# plt.savefig('figure10.png')"
   ]
  },
  {
   "cell_type": "code",
   "execution_count": null,
   "metadata": {
    "scrolled": true
   },
   "outputs": [],
   "source": [
    "# trarn_X_train.iloc[:,ranking[:25]].columns"
   ]
  },
  {
   "cell_type": "code",
   "execution_count": null,
   "metadata": {},
   "outputs": [],
   "source": [
    "#相関係数行列の可視化\n",
    "fig, ax = plt.subplots(1, 1, figsize=(30, 30))\n",
    "sns.heatmap(train.loc[:,['TotalQual', 'LotArea', 'BsmtFinSF1', 'GarageArea', 'GarageYrBlt',\n",
    "       'GrLivArea', 'GarageCars', 'BsmtUnfSF', 'YearRemodAdd',\n",
    "       'TotalBsmtSFQual', 'YearBuilt', 'OverallCond', 'LotFrontage', 'MoSold',\n",
    "       'MasVnrArea', 'OpenPorchSF', 'WoodDeckSF', 'Functional', 'MSSubClass',\n",
    "       'GarageFinish', 'TotRmsAbvGrd', 'Fireplaces', 'BedroomAbvGr', 'YrSold',\n",
    "       'BsmtFinType1']].corr(), vmax=1, vmin=-1, center=0, annot=True, ax=ax)"
   ]
  },
  {
   "cell_type": "code",
   "execution_count": null,
   "metadata": {},
   "outputs": [],
   "source": [
    "train = train.drop([\"GrLivArea\"],axis=1)"
   ]
  },
  {
   "cell_type": "code",
   "execution_count": null,
   "metadata": {
    "scrolled": true
   },
   "outputs": [],
   "source": []
  },
  {
   "cell_type": "code",
   "execution_count": null,
   "metadata": {},
   "outputs": [],
   "source": []
  },
  {
   "cell_type": "code",
   "execution_count": null,
   "metadata": {},
   "outputs": [],
   "source": []
  },
  {
   "cell_type": "code",
   "execution_count": null,
   "metadata": {},
   "outputs": [],
   "source": []
  },
  {
   "cell_type": "code",
   "execution_count": null,
   "metadata": {},
   "outputs": [],
   "source": [
    "X = train.loc[:,train.columns != \"SalePrice\"]\n",
    "y = train.loc[:,[\"SalePrice\"]]\n",
    "from sklearn.model_selection import train_test_split\n",
    "X_train, X_test, y_train, y_test = train_test_split(X, y, test_size=0.3, random_state=0)"
   ]
  },
  {
   "cell_type": "code",
   "execution_count": null,
   "metadata": {},
   "outputs": [],
   "source": [
    "from sklearn.linear_model import Lasso\n",
    "\n",
    "reg = Lasso(alpha=0.0005)\n",
    "reg.fit(X_train, y_train)\n",
    "from sklearn.metrics import mean_squared_error\n",
    "print(\"ラッソ回帰でのRMSE:\",np.sqrt(mean_squared_error(reg.predict(X_test), y_test)))"
   ]
  },
  {
   "cell_type": "code",
   "execution_count": null,
   "metadata": {},
   "outputs": [],
   "source": [
    "# 必要なライブラリのインポート\n",
    "from sklearn.ensemble import RandomForestRegressor\n",
    "# モデル構築、パラメータはデフォルト\n",
    "forest = RandomForestRegressor(n_estimators=5000, max_depth=40)\n",
    "forest.fit(X_train, y_train)"
   ]
  },
  {
   "cell_type": "code",
   "execution_count": null,
   "metadata": {},
   "outputs": [],
   "source": [
    "print(np.sqrt(mean_squared_error(forest.predict(X_test), y_test)))"
   ]
  },
  {
   "cell_type": "code",
   "execution_count": null,
   "metadata": {},
   "outputs": [],
   "source": []
  },
  {
   "cell_type": "code",
   "execution_count": null,
   "metadata": {},
   "outputs": [],
   "source": []
  }
 ],
 "metadata": {
  "kernelspec": {
   "display_name": "Python 3",
   "language": "python",
   "name": "python3"
  },
  "language_info": {
   "codemirror_mode": {
    "name": "ipython",
    "version": 3
   },
   "file_extension": ".py",
   "mimetype": "text/x-python",
   "name": "python",
   "nbconvert_exporter": "python",
   "pygments_lexer": "ipython3",
   "version": "3.5.5"
  }
 },
 "nbformat": 4,
 "nbformat_minor": 2
}

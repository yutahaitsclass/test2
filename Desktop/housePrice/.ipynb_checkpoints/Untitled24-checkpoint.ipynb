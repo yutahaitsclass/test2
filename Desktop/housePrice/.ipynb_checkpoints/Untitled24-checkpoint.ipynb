{
 "cells": [
  {
   "cell_type": "code",
   "execution_count": 1,
   "metadata": {},
   "outputs": [],
   "source": [
    "import pandas as pd\n",
    "import matplotlib.pyplot as plt\n",
    "import seaborn as sns\n",
    "import numpy as np\n",
    "%matplotlib inline \n",
    "# from scipy.stats import skewb\n",
    "from sklearn.linear_model import Lasso\n",
    "from sklearn.model_selection import train_test_split\n",
    "from sklearn.metrics import mean_squared_error"
   ]
  },
  {
   "cell_type": "code",
   "execution_count": 2,
   "metadata": {},
   "outputs": [],
   "source": [
    "train = pd.read_csv(\"train.csv\")"
   ]
  },
  {
   "cell_type": "code",
   "execution_count": 3,
   "metadata": {},
   "outputs": [],
   "source": [
    "train = train.drop([\"Id\",\"MiscFeature\",\"MoSold\",\"YrSold\",],axis=1)"
   ]
  },
  {
   "cell_type": "code",
   "execution_count": 4,
   "metadata": {},
   "outputs": [
    {
     "name": "stderr",
     "output_type": "stream",
     "text": [
      "C:\\Users\\yutaw\\Anaconda3\\envs\\tensorflow\\lib\\site-packages\\ipykernel_launcher.py:7: SettingWithCopyWarning: \n",
      "A value is trying to be set on a copy of a slice from a DataFrame\n",
      "\n",
      "See the caveats in the documentation: http://pandas.pydata.org/pandas-docs/stable/indexing.html#indexing-view-versus-copy\n",
      "  import sys\n"
     ]
    }
   ],
   "source": [
    "train[\"TotalSF\"] = train[\"TotalBsmtSF\"] + train[\"1stFlrSF\"] + train[\"2ndFlrSF\"] \n",
    "train['YearBuilt'] = 2011 - train['YearBuilt']\n",
    "train['YearRemodAdd']=2011- train['YearRemodAdd']\n",
    "train['GarageYrBlt']=2011- train['GarageYrBlt']\n",
    "train[\"TotalQual\"]=train[\"TotalSF\"] *train['OverallQual']\n",
    "train[\"TotalBsmtSFQual\"]=train[\"TotalBsmtSF\"] *train['BsmtQual']\n",
    "train['YearBuilt'][train['YearBuilt']!=train['YearRemodAdd']]=train['YearRemodAdd']\n",
    "train[\"Porch\"]=train['OpenPorchSF']+train['EnclosedPorch']+train['3SsnPorch']+train['ScreenPorch']\n",
    "train[\"Garage\"]=train[\"GarageArea\"]*train[\"GarageQual\"]"
   ]
  },
  {
   "cell_type": "code",
   "execution_count": 7,
   "metadata": {},
   "outputs": [],
   "source": [
    "train = train.drop([\"TotalBsmtSF\",\"1stFlrSF\",\"2ndFlrSF\",\"TotalSF\", \"OverallQual\",\"YearRemodAdd\",'OpenPorchSF','EnclosedPorch','3SsnPorch','ScreenPorch'],axis=1)"
   ]
  },
  {
   "cell_type": "code",
   "execution_count": null,
   "metadata": {},
   "outputs": [],
   "source": [
    "train=train[~((train['GrLivArea'] > 4000) & (train['SalePrice'] < 300000))]"
   ]
  }
 ],
 "metadata": {
  "kernelspec": {
   "display_name": "Python 3",
   "language": "python",
   "name": "python3"
  },
  "language_info": {
   "codemirror_mode": {
    "name": "ipython",
    "version": 3
   },
   "file_extension": ".py",
   "mimetype": "text/x-python",
   "name": "python",
   "nbconvert_exporter": "python",
   "pygments_lexer": "ipython3",
   "version": "3.5.5"
  }
 },
 "nbformat": 4,
 "nbformat_minor": 2
}

{
 "cells": [
  {
   "cell_type": "code",
   "execution_count": 1,
   "metadata": {},
   "outputs": [],
   "source": [
    "import pandas as pd\n",
    "import matplotlib.pyplot as plt\n",
    "import seaborn as sns\n",
    "import numpy as np\n",
    "%matplotlib inline \n",
    "from scipy.stats import skew\n",
    "from sklearn.linear_model import Lasso\n",
    "from sklearn.model_selection import train_test_split\n",
    "from sklearn.metrics import mean_squared_error"
   ]
  },
  {
   "cell_type": "code",
   "execution_count": 2,
   "metadata": {},
   "outputs": [],
   "source": [
    "train = pd.read_csv(\"train.csv\")"
   ]
  },
  {
   "cell_type": "code",
   "execution_count": 3,
   "metadata": {},
   "outputs": [
    {
     "data": {
      "text/plain": [
       "Index(['MSZoning', 'Street', 'Alley', 'LotShape', 'LandContour', 'Utilities',\n",
       "       'LotConfig', 'LandSlope', 'Neighborhood', 'Condition1', 'Condition2',\n",
       "       'BldgType', 'HouseStyle', 'RoofStyle', 'RoofMatl', 'Exterior1st',\n",
       "       'Exterior2nd', 'MasVnrType', 'ExterQual', 'ExterCond', 'Foundation',\n",
       "       'BsmtQual', 'BsmtCond', 'BsmtExposure', 'BsmtFinType1', 'BsmtFinType2',\n",
       "       'Heating', 'HeatingQC', 'CentralAir', 'Electrical', 'KitchenQual',\n",
       "       'Functional', 'FireplaceQu', 'GarageType', 'GarageFinish', 'GarageQual',\n",
       "       'GarageCond', 'PavedDrive', 'PoolQC', 'Fence', 'MiscFeature',\n",
       "       'SaleType', 'SaleCondition'],\n",
       "      dtype='object')"
      ]
     },
     "execution_count": 3,
     "metadata": {},
     "output_type": "execute_result"
    }
   ],
   "source": [
    "train.select_dtypes(include=\"object\").columns\n",
    "# train.head()\n",
    "# df.select_dtypes(include='int')"
   ]
  },
  {
   "cell_type": "code",
   "execution_count": 14,
   "metadata": {},
   "outputs": [
    {
     "data": {
      "text/plain": [
       "0       Gd\n",
       "1       TA\n",
       "2       Gd\n",
       "3       Gd\n",
       "4       Gd\n",
       "5       TA\n",
       "6       Gd\n",
       "7       TA\n",
       "8       TA\n",
       "9       TA\n",
       "10      TA\n",
       "11      Ex\n",
       "12      TA\n",
       "13      Gd\n",
       "14      TA\n",
       "15      TA\n",
       "16      TA\n",
       "17      TA\n",
       "18      Gd\n",
       "19      TA\n",
       "20      Gd\n",
       "21      Gd\n",
       "22      Gd\n",
       "23      TA\n",
       "24      Gd\n",
       "25      Gd\n",
       "26      Gd\n",
       "27      Gd\n",
       "28      TA\n",
       "29      Fa\n",
       "        ..\n",
       "1430    TA\n",
       "1431    TA\n",
       "1432    TA\n",
       "1433    TA\n",
       "1434    TA\n",
       "1435    Gd\n",
       "1436    TA\n",
       "1437    Ex\n",
       "1438    TA\n",
       "1439    TA\n",
       "1440    TA\n",
       "1441    Gd\n",
       "1442    Ex\n",
       "1443    Fa\n",
       "1444    Gd\n",
       "1445    TA\n",
       "1446    TA\n",
       "1447    Gd\n",
       "1448    TA\n",
       "1449    Ex\n",
       "1450    TA\n",
       "1451    Ex\n",
       "1452    TA\n",
       "1453    TA\n",
       "1454    Gd\n",
       "1455    TA\n",
       "1456    TA\n",
       "1457    Gd\n",
       "1458    Gd\n",
       "1459    TA\n",
       "Name: KitchenQual, Length: 1460, dtype: object"
      ]
     },
     "execution_count": 14,
     "metadata": {},
     "output_type": "execute_result"
    }
   ],
   "source": []
  }
 ],
 "metadata": {
  "kernelspec": {
   "display_name": "Python 3",
   "language": "python",
   "name": "python3"
  },
  "language_info": {
   "codemirror_mode": {
    "name": "ipython",
    "version": 3
   },
   "file_extension": ".py",
   "mimetype": "text/x-python",
   "name": "python",
   "nbconvert_exporter": "python",
   "pygments_lexer": "ipython3",
   "version": "3.5.5"
  }
 },
 "nbformat": 4,
 "nbformat_minor": 2
}
